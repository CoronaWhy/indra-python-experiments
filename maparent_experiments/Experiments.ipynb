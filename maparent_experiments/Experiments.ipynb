{
 "cells": [
  {
   "cell_type": "markdown",
   "metadata": {},
   "source": [
    "# Indra experiments\n",
    "\n",
    "The aim here is to evaluate Indra as a basis for claim identification in medical literature outside of molecular biology, esp. in the case of clinical trials.\n"
   ]
  },
  {
   "cell_type": "markdown",
   "metadata": {},
   "source": [
    "## Document ETL\n",
    "\n",
    "Taking open-access documents as point of departure. Below is the abstract, stripped of references:\n",
    "\n",
    "\n"
   ]
  },
  {
   "cell_type": "code",
   "execution_count": null,
   "metadata": {},
   "outputs": [],
   "source": [
    "from lxml import etree\n",
    "import requests\n",
    "import json\n",
    "from indra.literature import get_full_text\n"
   ]
  },
  {
   "cell_type": "code",
   "execution_count": 3,
   "metadata": {},
   "outputs": [],
   "source": [
    "doi = \"10.12688/f1000research.16369.1\"\n",
    "pmid='30631430'\n",
    "pmcid='PMC6281014'\n",
    "pdflink='https://www.ncbi.nlm.nih.gov/pmc/articles/PMC6281014/pdf/f1000research-7-17879.pdf'"
   ]
  },
  {
   "cell_type": "code",
   "execution_count": 7,
   "metadata": {},
   "outputs": [],
   "source": [
    "(t, ttype) = get_full_text(str(pmid), 'pmid') # or (doi, 'doi')\n",
    "nsmap={'xsi': 'http://www.w3.org/2001/XMLSchema-instance',\n",
    " 'ali': 'http://www.niso.org/schemas/ali/1.0/',\n",
    " 'mml': 'http://www.w3.org/1998/Math/MathML',\n",
    " 'xlink': 'http://www.w3.org/1999/xlink',\n",
    " 'j': 'https://jats.nlm.nih.gov/ns/archiving/1.2/'}\n",
    "\n",
    "\n",
    "if ttype == 'pmc_oa_xml':\n",
    "    tx = etree.fromstring(t.encode('utf-8'))\n",
    "    with open(f\"{pmcid}.xml\", 'w') as f:\n",
    "        f.write(t)\n",
    "    ax = tx.xpath('//j:abstract', namespaces=nsmap)[0]\n",
    "    abstract = ''.join(ax.itertext()).strip()\n",
    "    if pmcid:\n",
    "        if not pdflink:\n",
    "            pdflinks=tx.xpath(\"//j:self-uri[@content-type='pdf']/@xlink:href\", namespaces=nsmap)\n",
    "            if pdflinks:\n",
    "                pdflink = pdflinks[0]\n",
    "        if pdflink:\n",
    "            source = f\"https://www.ncbi.nlm.nih.gov/pmc/articles/{pmcid}/pdf/{pdflink}\"\n",
    "            r = requests.get(source)\n",
    "            if r.ok:  # actually get a 403 here...\n",
    "                with open(f\"{pmcid}.pdf\", 'wb') as f:\n",
    "                    f.write(r.raw)\n",
    "            else:\n",
    "                print(f\"open {source} and save it as {pmcid}.pdf\")\n",
    "elif ttype == 'abstract':\n",
    "    abstract = t\n"
   ]
  },
  {
   "cell_type": "code",
   "execution_count": null,
   "metadata": {},
   "outputs": [],
   "source": [
    "from indra.sources import reach\n",
    "rp=reach.process_text(abstract, offline=True)\n",
    "with open(f\"{pmcid}.reach.json\", 'w') as f:\n",
    "    json.dump(rp.tree.data, f)\n",
    "if rp.statements:\n",
    "    with open(f\"{pmcid}.reach.indra.json\", 'w') as f:\n",
    "        json.dump([s.to_json() for s in rp.statements], f)\n"
   ]
  },
  {
   "cell_type": "code",
   "execution_count": null,
   "metadata": {},
   "outputs": [],
   "source": [
    "from indra.sources import eidos\n",
    "rp=eidos.process_text(abstract, webservice=\"http://localhost:9000\")\n",
    "with open(f\"{pmcid}.eidos.json\", 'w') as f:\n",
    "    json.dump(rp.doc.tree.data, f)\n",
    "if rp.statements:\n",
    "    with open(f\"{pmcid}.eidos.indra.json\", 'w') as f:\n",
    "        json.dump([s.to_json() for s in rp.statements], f)\n"
   ]
  },
  {
   "cell_type": "code",
   "execution_count": null,
   "metadata": {},
   "outputs": [],
   "source": [
    "from indra.sources import sparser\n",
    "rp=sparser.process_text(abstract)\n",
    "# why does it fail now???\n",
    "if rp:\n",
    "    with open(f\"{pmcid}.sparser.json\", 'w') as f:\n",
    "        json.dump(rp.doc.tree.data, f)\n",
    "    if rp.statements:\n",
    "        with open(f\"{pmcid}.sparser.indra.json\", 'w') as f:\n",
    "            json.dump([s.to_json() for s in rp.statements], f)\n",
    "\n"
   ]
  }
 ],
 "metadata": {
  "kernelspec": {
   "display_name": "Python 3",
   "language": "python",
   "name": "python3"
  },
  "language_info": {
   "codemirror_mode": {
    "name": "ipython",
    "version": 3
   },
   "file_extension": ".py",
   "mimetype": "text/x-python",
   "name": "python",
   "nbconvert_exporter": "python",
   "pygments_lexer": "ipython3",
   "version": "3.8.5"
  }
 },
 "nbformat": 4,
 "nbformat_minor": 4
}
